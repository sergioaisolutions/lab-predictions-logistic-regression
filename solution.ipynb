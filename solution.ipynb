{
 "cells": [
  {
   "cell_type": "markdown",
   "source": [
    "<h2>IMPORTING THE REQUIRED LIBRARIES AND MODULES</h2>"
   ],
   "metadata": {}
  },
  {
   "cell_type": "code",
   "execution_count": 1,
   "source": [
    "from getpass import getpass\r\n",
    "from mysql.connector import connection\r\n",
    "\r\n",
    "import pandas as pd\r\n",
    "import numpy as np\r\n",
    "\r\n",
    "import matplotlib.pyplot as plt\r\n",
    "\r\n",
    "from sklearn.model_selection import train_test_split\r\n",
    "from sklearn.preprocessing import StandardScaler, OneHotEncoder\r\n",
    "\r\n",
    "from sklearn.ensemble import RandomForestClassifier\r\n",
    "from sklearn.metrics import plot_confusion_matrix\r\n",
    "\r\n",
    "from IPython import display"
   ],
   "outputs": [],
   "metadata": {}
  },
  {
   "cell_type": "markdown",
   "source": [
    "<h2>CREATING A CONNECTION BETWEEN OUR JUPYTER NOTEBOOK AND MYSQL. SELECTING THE SAKILA DATABASE</h2>"
   ],
   "metadata": {}
  },
  {
   "cell_type": "code",
   "execution_count": 2,
   "source": [
    "def mysql_database_connection(user, host, database):\r\n",
    "\r\n",
    "    password = getpass()\r\n",
    "\r\n",
    "    mysql_connection = connection.MySQLConnection(user = user, password = password,\r\n",
    "                                                  host = host, database = database)\r\n",
    "                                     \r\n",
    "    return mysql_connection\r\n",
    "\r\n",
    "sakila_engine = mysql_database_connection('root', 'localhost', 'sakila')"
   ],
   "outputs": [],
   "metadata": {}
  },
  {
   "cell_type": "markdown",
   "source": [
    "<h2>JOINING ALL THE DATA FROM THE FILM AND RENTAL COLUMNS</h2>"
   ],
   "metadata": {}
  },
  {
   "cell_type": "code",
   "execution_count": 3,
   "source": [
    "def film_inventory_rental(query, engine):\r\n",
    "\r\n",
    "    return pd.read_sql_query(query, engine)\r\n",
    "\r\n",
    "query = '''SELECT * FROM \r\n",
    "           film f JOIN inventory i USING(film_id)\r\n",
    "           JOIN rental r ON i.inventory_id = r.inventory_id\r\n",
    "           WHERE YEAR(r.rental_date) = 2005'''\r\n",
    "\r\n",
    "film_inventory_rental_data = film_inventory_rental(query, sakila_engine)"
   ],
   "outputs": [],
   "metadata": {}
  },
  {
   "cell_type": "markdown",
   "source": [
    "<h2>REMOVING THE ID AND THE UPDATE COLUMNS - REMOVING THE RETURN DATE COLUMN TOO BECAUSE OF THE DATA LEAKAGE</h2>"
   ],
   "metadata": {}
  },
  {
   "cell_type": "code",
   "execution_count": 4,
   "source": [
    "def drop_id_update_return_columns(dataframe):\r\n",
    "\r\n",
    "    columns_to_drop = list()\r\n",
    "\r\n",
    "    for column in dataframe.columns:\r\n",
    "        if 'id' in column or 'update' in column:\r\n",
    "            columns_to_drop.append(column)\r\n",
    "\r\n",
    "    columns_to_drop.append('return_date') \r\n",
    "\r\n",
    "    dataframe = dataframe.drop(columns_to_drop, axis = 1)\r\n",
    "\r\n",
    "    return dataframe\r\n",
    "\r\n",
    "film_inventory_rental_data = drop_id_update_return_columns(film_inventory_rental_data)"
   ],
   "outputs": [],
   "metadata": {}
  },
  {
   "cell_type": "markdown",
   "source": [
    "<h2>REMOVING THE TITLE AND THE DESCRIPTION COLUMNS</h2>"
   ],
   "metadata": {}
  },
  {
   "cell_type": "code",
   "execution_count": 5,
   "source": [
    "def drop_title_description_column(dataframe, column):\r\n",
    "\r\n",
    "    return dataframe.drop(column, axis = 1)\r\n",
    "\r\n",
    "film_inventory_rental_data = drop_title_description_column(film_inventory_rental_data, 'description')"
   ],
   "outputs": [],
   "metadata": {}
  },
  {
   "cell_type": "markdown",
   "source": [
    "<h2>DROPPING THE RELEASE YEAR COLUMN BECAUSE IT HAS 0 VARIANCE</h2>"
   ],
   "metadata": {}
  },
  {
   "cell_type": "code",
   "execution_count": 6,
   "source": [
    "def drop_release_year_column(dataframe, column):\r\n",
    "\r\n",
    "    return dataframe.drop(column, axis = 1)\r\n",
    "\r\n",
    "film_inventory_rental_data = drop_release_year_column(film_inventory_rental_data, 'release_year')"
   ],
   "outputs": [],
   "metadata": {}
  },
  {
   "cell_type": "markdown",
   "source": [
    "<h2>FORMATTING THE SPECIAL FEATURES COLUMN BEFORE USING THE FEATURE</h2>"
   ],
   "metadata": {}
  },
  {
   "cell_type": "code",
   "execution_count": 7,
   "source": [
    "def order_special_features(x):\r\n",
    "\r\n",
    "    return sorted(x, key = str.lower)\r\n",
    "\r\n",
    "film_inventory_rental_data['special_features'] = film_inventory_rental_data['special_features'].apply(order_special_features)"
   ],
   "outputs": [],
   "metadata": {}
  },
  {
   "cell_type": "markdown",
   "source": [
    "<h2>MANUALLY ONE HOT ENCODING THE SPECIAL FEATURES COLUMN</h2>"
   ],
   "metadata": {}
  },
  {
   "cell_type": "code",
   "execution_count": 8,
   "source": [
    "def one_hot_special_features(dataframe, column):\r\n",
    "\r\n",
    "    dataframe['behind_the_scenes'] = 0\r\n",
    "    dataframe['commentaries'] = 0\r\n",
    "    dataframe['deleted_scenes'] = 0\r\n",
    "    dataframe['trailers'] = 0\r\n",
    "\r\n",
    "    def behind_the_scenes(row):\r\n",
    "\r\n",
    "        if 'Behind the Scenes' in row[column]:\r\n",
    "            return 1\r\n",
    "\r\n",
    "        return 0\r\n",
    "\r\n",
    "    def commentaries(row):\r\n",
    "\r\n",
    "        if 'Commentaries' in row[column]:\r\n",
    "            return 1\r\n",
    "\r\n",
    "        return 0\r\n",
    "\r\n",
    "    def deleted_scenes(row):\r\n",
    "\r\n",
    "        if 'Deleted Scenes' in row[column]:\r\n",
    "            return 1\r\n",
    "\r\n",
    "        return 0\r\n",
    "\r\n",
    "    def trailers(row):\r\n",
    "\r\n",
    "        if 'Trailers' in row[column]:\r\n",
    "            return 1\r\n",
    "\r\n",
    "        return 0\r\n",
    "\r\n",
    "    dataframe['behind_the_scenes'] = film_inventory_rental_data.apply(behind_the_scenes, axis = 1)\r\n",
    "    dataframe['commentaries'] = film_inventory_rental_data.apply(commentaries, axis = 1) \r\n",
    "    dataframe['deleted_scenes'] = film_inventory_rental_data.apply(deleted_scenes, axis = 1)\r\n",
    "    dataframe['trailers'] = film_inventory_rental_data.apply(trailers, axis = 1)\r\n",
    "\r\n",
    "    dataframe = dataframe.drop(column, axis = 1)\r\n",
    "\r\n",
    "    return dataframe\r\n",
    "\r\n",
    "film_inventory_rental_data = one_hot_special_features(film_inventory_rental_data, 'special_features')"
   ],
   "outputs": [],
   "metadata": {}
  },
  {
   "cell_type": "markdown",
   "source": [
    "<h2>EXTRACTING THE TARGET COLUMN: IF THE RENTAL WAS IN AUGUST OR WAS NOT IN AUGUST</h2>"
   ],
   "metadata": {}
  },
  {
   "cell_type": "code",
   "execution_count": 9,
   "source": [
    "def extract_target_month(dataframe, column, month_column, is_august_column):\r\n",
    "\r\n",
    "    dataframe[month_column] = dataframe[column].dt.month\r\n",
    "    dataframe = dataframe.drop(column, axis = 1)\r\n",
    "\r\n",
    "    def is_august(month):\r\n",
    "\r\n",
    "        if month == 8:\r\n",
    "            return 1\r\n",
    "        \r\n",
    "        return 0\r\n",
    "\r\n",
    "    dataframe[is_august_column] = dataframe[month_column].apply(is_august)\r\n",
    "    dataframe = dataframe.drop(month_column, axis = 1)\r\n",
    "\r\n",
    "    return dataframe\r\n",
    "\r\n",
    "film_inventory_rental_data = extract_target_month(film_inventory_rental_data, 'rental_date', 'rental_month', 'august_rental')"
   ],
   "outputs": [],
   "metadata": {}
  },
  {
   "cell_type": "markdown",
   "source": [
    "<h2>DEFINING HOW MANY TIMES THE FILM HAS BEEN RENTED IN AUGUST</h2>"
   ],
   "metadata": {}
  },
  {
   "cell_type": "code",
   "execution_count": 10,
   "source": [
    "def rentals_in_august(dataframe, column, new_column):\r\n",
    "\r\n",
    "    august_rentals = dataframe[dataframe[column] == 1]\r\n",
    "    august_rentals_per_film = august_rentals.groupby('title').agg({'august_rental': len}).reset_index()\r\n",
    "    august_rentals_per_film_dict = august_rentals_per_film.set_index('title')['august_rental'].to_dict()\r\n",
    "    dataframe[new_column] = dataframe['title'].map(august_rentals_per_film_dict)\r\n",
    "\r\n",
    "    # dataframe = dataframe.drop('title', axis = 1)\r\n",
    "\r\n",
    "    dataframe = dataframe[['title', 'rental_duration', 'rental_rate', 'length', 'replacement_cost',\r\n",
    "                           'rating', 'behind_the_scenes', 'commentaries', 'deleted_scenes',\r\n",
    "                           'trailers', 'august_rental', 'rentals_in_august']]\r\n",
    "\r\n",
    "    return dataframe\r\n",
    "\r\n",
    "film_inventory_rental_data = rentals_in_august(film_inventory_rental_data, 'august_rental', 'rentals_in_august')"
   ],
   "outputs": [],
   "metadata": {}
  },
  {
   "cell_type": "markdown",
   "source": [
    "<h2>CONVERTING THE RENTAL DURATION AND THE RENTAL RATE COLUMNS IN OBJECTS</h2>"
   ],
   "metadata": {}
  },
  {
   "cell_type": "code",
   "execution_count": 11,
   "source": [
    "def numerical_to_categorical(dataframe, columns):\r\n",
    "\r\n",
    "    for column in columns:\r\n",
    "        dataframe[column] = dataframe[column].astype('object')\r\n",
    "\r\n",
    "    return dataframe\r\n",
    "\r\n",
    "film_inventory_rental_data = numerical_to_categorical(film_inventory_rental_data, ['rental_duration', 'rental_rate'])"
   ],
   "outputs": [],
   "metadata": {}
  },
  {
   "cell_type": "markdown",
   "source": [
    "<h2>PERFORMING THE X-Y SPLIT AND THE TRAIN TEST SPLIT</h2>"
   ],
   "metadata": {}
  },
  {
   "cell_type": "code",
   "execution_count": 12,
   "source": [
    "def x_y_train_test(dataframe, target):\r\n",
    "\r\n",
    "    X = dataframe.drop(target, axis = 1)\r\n",
    "    y = dataframe[target]\r\n",
    "\r\n",
    "    X_train, X_test, y_train, y_test = train_test_split(X, y, test_size = 0.20, random_state = 42)\r\n",
    "\r\n",
    "    titles_x_train = X_train['title']\r\n",
    "    titles_x_test = X_test['title']\r\n",
    "\r\n",
    "    X_train = X_train.drop('title', axis = 1)\r\n",
    "    X_test = X_test.drop('title', axis = 1)\r\n",
    "\r\n",
    "    return X_train, X_test, y_train, y_test, titles_x_train, titles_x_test\r\n",
    "\r\n",
    "X_train, X_test, y_train, y_test, train_titles, test_titles = x_y_train_test(film_inventory_rental_data, 'august_rental')"
   ],
   "outputs": [],
   "metadata": {}
  },
  {
   "cell_type": "markdown",
   "source": [
    "<h2>SCALING THE NUMERICAL FEATURES</h2>"
   ],
   "metadata": {}
  },
  {
   "cell_type": "code",
   "execution_count": 13,
   "source": [
    "def scaling(training_x, testing_x, columns):\r\n",
    "\r\n",
    "    training_x_numerical = training_x[columns]\r\n",
    "    testing_x_numerical = testing_x[columns]\r\n",
    "\r\n",
    "    scaler = StandardScaler().fit(training_x_numerical)\r\n",
    "\r\n",
    "    training_x_numerical_array = scaler.transform(training_x_numerical)\r\n",
    "    training_x_numerical_scaled = pd.DataFrame(data = training_x_numerical_array, columns = training_x_numerical.columns, index = training_x.index)\r\n",
    "\r\n",
    "    testing_x_numerical_array = scaler.transform(testing_x_numerical)\r\n",
    "    testing_x_numerical_scaled = pd.DataFrame(data = testing_x_numerical_array, columns = testing_x_numerical.columns, index = testing_x.index)\r\n",
    "\r\n",
    "    numerical_columns = training_x_numerical.columns.to_list()\r\n",
    "    training_x[numerical_columns] = training_x_numerical_scaled\r\n",
    "    testing_x[numerical_columns] = testing_x_numerical_scaled\r\n",
    "\r\n",
    "    return training_x, testing_x\r\n",
    "\r\n",
    "X_train_scaled, X_test_scaled = scaling(X_train, X_test, ['length', 'replacement_cost', 'rentals_in_august'])"
   ],
   "outputs": [],
   "metadata": {}
  },
  {
   "cell_type": "markdown",
   "source": [
    "<h2>ONE HOT ENCODING THE CATEGORICAL FEATURES</h2>"
   ],
   "metadata": {}
  },
  {
   "cell_type": "code",
   "execution_count": 14,
   "source": [
    "def one_hot_encoding(training_x, testing_x, columns):\r\n",
    "\r\n",
    "    training_x_categorical = training_x[columns]\r\n",
    "    testing_x_categorical = testing_x[columns]\r\n",
    "\r\n",
    "    training_x = training_x.drop(columns, axis = 1)\r\n",
    "    testing_x = testing_x.drop(columns, axis = 1)\r\n",
    "\r\n",
    "    encoder = OneHotEncoder().fit(training_x_categorical)\r\n",
    "\r\n",
    "    total_columns = list()\r\n",
    "    columns_to_drop = list()\r\n",
    "\r\n",
    "    for columns in encoder.categories_:\r\n",
    "        columns_to_drop.append(columns[0])\r\n",
    "        for column in columns:\r\n",
    "            total_columns.append(column)\r\n",
    "\r\n",
    "    training_x_categorical_array = encoder.transform(training_x_categorical).toarray()\r\n",
    "    training_x_categorical_encoded = pd.DataFrame(data = training_x_categorical_array, columns = total_columns, index = training_x.index)\r\n",
    "    training_x_categorical_encoded = training_x_categorical_encoded.drop(columns_to_drop, axis = 1)\r\n",
    "\r\n",
    "    testing_x_categorical_array = encoder.transform(testing_x_categorical).toarray()\r\n",
    "    testing_x_categorical_encoded = pd.DataFrame(data = testing_x_categorical_array, columns = total_columns, index = testing_x.index)\r\n",
    "    testing_x_categorical_encoded = testing_x_categorical_encoded.drop(columns_to_drop, axis = 1)\r\n",
    "\r\n",
    "    training_x = pd.concat([training_x, training_x_categorical_encoded], axis = 1)\r\n",
    "    testing_x = pd.concat([testing_x, testing_x_categorical_encoded], axis = 1)\r\n",
    "\r\n",
    "    return training_x, testing_x\r\n",
    "\r\n",
    "X_train_scaled_encoded, X_test_scaled_encoded = one_hot_encoding(X_train_scaled, X_test_scaled, ['rental_duration', 'rental_rate', 'rating'])"
   ],
   "outputs": [],
   "metadata": {}
  },
  {
   "cell_type": "markdown",
   "source": [
    "<h2>CREATING AND FITTING A LOGISTIC REGRESSION MODEL. GENERATING PREDICTIONS</h2>"
   ],
   "metadata": {}
  },
  {
   "cell_type": "code",
   "execution_count": 15,
   "source": [
    "def create_fit_random_forest(training_x, training_y):\r\n",
    "\r\n",
    "    model = RandomForestClassifier()\r\n",
    "    model.fit(training_x, training_y)\r\n",
    "    \r\n",
    "    return model\r\n",
    "\r\n",
    "random_forest = create_fit_random_forest(X_train_scaled_encoded, y_train)\r\n",
    "predictions_train = random_forest.predict_proba(X_train_scaled_encoded)\r\n",
    "predictions_test = random_forest.predict_proba(X_test_scaled_encoded)"
   ],
   "outputs": [],
   "metadata": {}
  },
  {
   "cell_type": "markdown",
   "source": [
    "<h2>VISUALIZING THE CONFUSION MATRIX</h2>"
   ],
   "metadata": {}
  },
  {
   "cell_type": "code",
   "execution_count": 16,
   "source": [
    "fig = plt.figure()\r\n",
    "plot_confusion_matrix(random_forest, X_test_scaled_encoded, y_test)\r\n",
    "plt.title('CONFUSION MATRIX', fontsize = 15)\r\n",
    "plt.show()"
   ],
   "outputs": [
    {
     "output_type": "error",
     "ename": "NameError",
     "evalue": "name 'logistic_regression' is not defined",
     "traceback": [
      "\u001b[1;31m---------------------------------------------------------------------------\u001b[0m",
      "\u001b[1;31mNameError\u001b[0m                                 Traceback (most recent call last)",
      "\u001b[1;32m~\\AppData\\Local\\Temp/ipykernel_8032/3853040073.py\u001b[0m in \u001b[0;36m<module>\u001b[1;34m\u001b[0m\n\u001b[0;32m      1\u001b[0m \u001b[0mfig\u001b[0m \u001b[1;33m=\u001b[0m \u001b[0mplt\u001b[0m\u001b[1;33m.\u001b[0m\u001b[0mfigure\u001b[0m\u001b[1;33m(\u001b[0m\u001b[1;33m)\u001b[0m\u001b[1;33m\u001b[0m\u001b[1;33m\u001b[0m\u001b[0m\n\u001b[1;32m----> 2\u001b[1;33m \u001b[0mplot_confusion_matrix\u001b[0m\u001b[1;33m(\u001b[0m\u001b[0mlogistic_regression\u001b[0m\u001b[1;33m,\u001b[0m \u001b[0mX_test_scaled_encoded\u001b[0m\u001b[1;33m,\u001b[0m \u001b[0my_test\u001b[0m\u001b[1;33m)\u001b[0m\u001b[1;33m\u001b[0m\u001b[1;33m\u001b[0m\u001b[0m\n\u001b[0m\u001b[0;32m      3\u001b[0m \u001b[0mplt\u001b[0m\u001b[1;33m.\u001b[0m\u001b[0mtitle\u001b[0m\u001b[1;33m(\u001b[0m\u001b[1;34m'CONFUSION MATRIX'\u001b[0m\u001b[1;33m,\u001b[0m \u001b[0mfontsize\u001b[0m \u001b[1;33m=\u001b[0m \u001b[1;36m15\u001b[0m\u001b[1;33m)\u001b[0m\u001b[1;33m\u001b[0m\u001b[1;33m\u001b[0m\u001b[0m\n\u001b[0;32m      4\u001b[0m \u001b[0mplt\u001b[0m\u001b[1;33m.\u001b[0m\u001b[0mshow\u001b[0m\u001b[1;33m(\u001b[0m\u001b[1;33m)\u001b[0m\u001b[1;33m\u001b[0m\u001b[1;33m\u001b[0m\u001b[0m\n",
      "\u001b[1;31mNameError\u001b[0m: name 'logistic_regression' is not defined"
     ]
    },
    {
     "output_type": "display_data",
     "data": {
      "text/plain": [
       "<Figure size 432x288 with 0 Axes>"
      ]
     },
     "metadata": {}
    }
   ],
   "metadata": {}
  },
  {
   "cell_type": "markdown",
   "source": [
    "<h2>PROBABILITIES OF RENTING OF THE FILM IN AUGUST PER FILM TITLE</h2>"
   ],
   "metadata": {}
  },
  {
   "cell_type": "code",
   "execution_count": null,
   "source": [
    "predictions_train_per_film = pd.DataFrame(data = predictions_train, columns = ['No rent august', 'Yes rent in august'], index = X_train_scaled_encoded.index)\r\n",
    "predictions_train_per_film['title'] = train_titles\r\n",
    "predictions_train_per_film = predictions_train_per_film[['title', 'No rent august', 'Yes rent in august']]\r\n",
    "\r\n",
    "predictions_test_per_film = pd.DataFrame(data = predictions_test, columns = ['No rent august', 'Yes rent in august'], index = X_test_scaled_encoded.index)\r\n",
    "predictions_test_per_film['title'] = test_titles\r\n",
    "predictions_test_per_film = predictions_test_per_film[['title', 'No rent august', 'Yes rent in august']]\r\n",
    "\r\n",
    "pd.concat([predictions_train_per_film, predictions_test_per_film]).groupby('title').mean().reset_index()"
   ],
   "outputs": [
    {
     "output_type": "execute_result",
     "data": {
      "text/plain": [
       "                 title  No rent august  Yes rent in august\n",
       "0     ACADEMY DINOSAUR        0.492661            0.507339\n",
       "1       ACE GOLDFINGER        0.451631            0.548369\n",
       "2     ADAPTATION HOLES        0.436647            0.563353\n",
       "3     AFFAIR PREJUDICE        0.682986            0.317014\n",
       "4          AFRICAN EGG        0.662024            0.337976\n",
       "..                 ...             ...                 ...\n",
       "953     YOUNG LANGUAGE        0.555352            0.444648\n",
       "954         YOUTH KICK        0.487955            0.512045\n",
       "955       ZHIVAGO CORE        0.817522            0.182478\n",
       "956  ZOOLANDER FICTION        0.647819            0.352181\n",
       "957          ZORRO ARK        0.609033            0.390967\n",
       "\n",
       "[958 rows x 3 columns]"
      ],
      "text/html": [
       "<div>\n",
       "<style scoped>\n",
       "    .dataframe tbody tr th:only-of-type {\n",
       "        vertical-align: middle;\n",
       "    }\n",
       "\n",
       "    .dataframe tbody tr th {\n",
       "        vertical-align: top;\n",
       "    }\n",
       "\n",
       "    .dataframe thead th {\n",
       "        text-align: right;\n",
       "    }\n",
       "</style>\n",
       "<table border=\"1\" class=\"dataframe\">\n",
       "  <thead>\n",
       "    <tr style=\"text-align: right;\">\n",
       "      <th></th>\n",
       "      <th>title</th>\n",
       "      <th>No rent august</th>\n",
       "      <th>Yes rent in august</th>\n",
       "    </tr>\n",
       "  </thead>\n",
       "  <tbody>\n",
       "    <tr>\n",
       "      <th>0</th>\n",
       "      <td>ACADEMY DINOSAUR</td>\n",
       "      <td>0.492661</td>\n",
       "      <td>0.507339</td>\n",
       "    </tr>\n",
       "    <tr>\n",
       "      <th>1</th>\n",
       "      <td>ACE GOLDFINGER</td>\n",
       "      <td>0.451631</td>\n",
       "      <td>0.548369</td>\n",
       "    </tr>\n",
       "    <tr>\n",
       "      <th>2</th>\n",
       "      <td>ADAPTATION HOLES</td>\n",
       "      <td>0.436647</td>\n",
       "      <td>0.563353</td>\n",
       "    </tr>\n",
       "    <tr>\n",
       "      <th>3</th>\n",
       "      <td>AFFAIR PREJUDICE</td>\n",
       "      <td>0.682986</td>\n",
       "      <td>0.317014</td>\n",
       "    </tr>\n",
       "    <tr>\n",
       "      <th>4</th>\n",
       "      <td>AFRICAN EGG</td>\n",
       "      <td>0.662024</td>\n",
       "      <td>0.337976</td>\n",
       "    </tr>\n",
       "    <tr>\n",
       "      <th>...</th>\n",
       "      <td>...</td>\n",
       "      <td>...</td>\n",
       "      <td>...</td>\n",
       "    </tr>\n",
       "    <tr>\n",
       "      <th>953</th>\n",
       "      <td>YOUNG LANGUAGE</td>\n",
       "      <td>0.555352</td>\n",
       "      <td>0.444648</td>\n",
       "    </tr>\n",
       "    <tr>\n",
       "      <th>954</th>\n",
       "      <td>YOUTH KICK</td>\n",
       "      <td>0.487955</td>\n",
       "      <td>0.512045</td>\n",
       "    </tr>\n",
       "    <tr>\n",
       "      <th>955</th>\n",
       "      <td>ZHIVAGO CORE</td>\n",
       "      <td>0.817522</td>\n",
       "      <td>0.182478</td>\n",
       "    </tr>\n",
       "    <tr>\n",
       "      <th>956</th>\n",
       "      <td>ZOOLANDER FICTION</td>\n",
       "      <td>0.647819</td>\n",
       "      <td>0.352181</td>\n",
       "    </tr>\n",
       "    <tr>\n",
       "      <th>957</th>\n",
       "      <td>ZORRO ARK</td>\n",
       "      <td>0.609033</td>\n",
       "      <td>0.390967</td>\n",
       "    </tr>\n",
       "  </tbody>\n",
       "</table>\n",
       "<p>958 rows × 3 columns</p>\n",
       "</div>"
      ]
     },
     "metadata": {},
     "execution_count": 17
    }
   ],
   "metadata": {}
  }
 ],
 "metadata": {
  "orig_nbformat": 4,
  "language_info": {
   "name": "python",
   "version": "3.7.6",
   "mimetype": "text/x-python",
   "codemirror_mode": {
    "name": "ipython",
    "version": 3
   },
   "pygments_lexer": "ipython3",
   "nbconvert_exporter": "python",
   "file_extension": ".py"
  },
  "kernelspec": {
   "name": "python3",
   "display_name": "Python 3.7.6 64-bit ('ironhack_environment': venv)"
  },
  "interpreter": {
   "hash": "df81bf56b2521791aaa0ff1ac8d57256f917b61d33ad24d6b6d13191d105bbf2"
  }
 },
 "nbformat": 4,
 "nbformat_minor": 2
}